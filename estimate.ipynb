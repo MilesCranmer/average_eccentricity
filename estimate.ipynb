{
 "cells": [
  {
   "cell_type": "code",
   "metadata": {
    "collapsed": false
   },
   "outputs": [],
   "source": [
    "%matplotlib inline\n",
    "\n",
    "#Calculations\n",
    "import numpy as np\n",
    "\n",
    "#Plots\n",
    "import matplotlib as mpl\n",
    "from matplotlib import pyplot as plt\n",
    "\n",
    "# Unit conversions and constant definitions\n",
    "from astropy import constants as const\n",
    "from astropy import units as u\n",
    "\n",
    "# Optimizer:\n",
    "from scipy.optimize import minimize\n",
    "\n",
    "%pylab inline\n",
    "\n",
    "# Make inline plots larger.\n",
    "pylab.rcParams['figure.figsize'] = (14, 8)\n",
    "\n",
    "# TeX rendering\n",
    "mpl.rc('text', usetex = True)\n",
    "mpl.rc('font', family = 'serif')\n",
    "\n",
    "# Make axis tick labels larger\n",
    "mpl.rcParams['xtick.labelsize'] = 15\n",
    "mpl.rcParams['ytick.labelsize'] = 15\n",
    "\n",
    "#Generic object class for readability:\n",
    "class Object:\n",
    "    def __init__(self, **kwds):\n",
    "        self.__dict__.update(kwds)"
   ]
  },
  {
   "cell_type": "code",
   "metadata": {
    "collapsed": false
   },
   "outputs": [],
   "source": [
    "def eccentricity_derivative(m1, m2, a, e):\n",
    "    top_left = -304*const.G**3.*m1*m2*(m1+m2)\n",
    "    bot_left = 15*a**4.*const.c**5.\n",
    "    top_right = e*(1+121.*e**2./304.)\n",
    "    bot_right = (1-e**2.)**(5./2)\n",
    "    \n",
    "    derivative = top_left*top_right/bot_left/bot_right\n",
    "    return derivative"
   ]
  },
  {
   "cell_type": "code",
   "metadata": {
    "collapsed": true
   },
   "outputs": [],
   "source": [
    "def radius_derivative(m1, m2, a, e):\n",
    "    top_left = -64*const.G**3.*m1*m2*(m1+m2)\n",
    "    bot_left = 5*a**3.*const.c**5.\n",
    "    top_right = 1+73.*e**2./24 + 37.*e**4./96\n",
    "    bot_right = (1-e**2.)**(7./2)\n",
    "    \n",
    "    derivative = top_left*top_right/bot_left/bot_right\n",
    "    return derivative"
   ]
  },
  {
   "cell_type": "code",
   "metadata": {
    "collapsed": false
   },
   "outputs": [],
   "source": [
    "def run_merger_sim(m1, m2, a0, e0, max_steps=10000):\n",
    "    a = a0\n",
    "    e = e0\n",
    "    step_size = 1*u.s\n",
    "    for step in range(10000):\n",
    "        e_dot = eccentricity_derivative(m1, m2, a, e)\n",
    "        a_dot = radius_derivative(m1, m2, a, e)\n",
    "        if np.abs(e_dot*step_size/e) > 0.01 or \\\n",
    "                np.abs(a_dot*step_size/a) > 0.01:\n",
    "            step_size /= 10.\n",
    "        elif np.abs(e_dot*step_size/e) < 0.01 and \\\n",
    "                np.abs(a_dot*step_size/a) < 0.01:\n",
    "            step_size *= 10.\n",
    "        e = e + e_dot*step_size\n",
    "        a = a + a_dot*step_size\n",
    "        #print(\"a, e, step_size\", a.to('m').value, e.value, step_size.to(\"yr\").value)\n",
    "        if e < 1e-2:\n",
    "            return 0\n",
    "        if a.to('km').value < 24:\n",
    "            return e"
   ]
  },
  {
   "cell_type": "code",
   "metadata": {
    "collapsed": false
   },
   "outputs": [],
   "source": [
    "for _ in range(2):\n",
    "    m1 = 10*np.random.random()*const.M_sun\n",
    "    m2 = 10*np.random.random()*const.M_sun\n",
    "    a = 10*np.random.random()*const.au\n",
    "    e = np.random.random()\n",
    "    run_merger_sim(m1, m2, a, e)\n",
    "    print m1.to(\"M_sun\").value, \",\",\n",
    "    print m2.to(\"M_sun\").value, \",\", a.to(\"km\").value, \",\", e"
   ]
  },
  {
   "cell_type": "code",
   "metadata": {
    "collapsed": true
   },
   "outputs": [],
   "source": []
  }
 ],
 "metadata": {
  "git": {
   "suppress_outputs": true
  },
  "kernelspec": {
   "display_name": "Python 2",
   "language": "python",
   "name": "python2"
  },
  "language_info": {
   "codemirror_mode": {
    "name": "ipython",
    "version": 2
   },
   "file_extension": ".py",
   "mimetype": "text/x-python",
   "name": "python",
   "nbconvert_exporter": "python",
   "pygments_lexer": "ipython2",
   "version": "2.7.6"
  }
 },
 "nbformat": 4,
 "nbformat_minor": 0
}